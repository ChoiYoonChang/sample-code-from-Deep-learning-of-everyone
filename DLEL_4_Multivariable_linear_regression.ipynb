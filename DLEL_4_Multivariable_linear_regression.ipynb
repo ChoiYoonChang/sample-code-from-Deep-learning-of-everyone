{
 "cells": [
  {
   "cell_type": "markdown",
   "metadata": {},
   "source": [
    "## 모두를 위한 머신러닝/딥러닝 강의\n",
    "김성훈 교수님의 모두를 위한 머신러닝/딥러닝 강의 중 lab 강의의 코드를 구현한 것입니다.\n",
    "## Lab4 Multivariable linear regression\n",
    "### Without matrix concept"
   ]
  },
  {
   "cell_type": "code",
   "execution_count": 3,
   "metadata": {
    "collapsed": false
   },
   "outputs": [
    {
     "name": "stdout",
     "output_type": "stream",
     "text": [
      "0 2.90856 [ 1.64934099] [ 1.10650384] [-0.03451693]\n",
      "20 0.00215287 [ 1.02891529] [ 1.034307] [-0.10999484]\n",
      "40 0.000623341 [ 1.0155586] [ 1.01846027] [-0.05918726]\n",
      "60 0.000180484 [ 1.00837195] [ 1.00993323] [-0.03184813]\n",
      "80 5.22575e-05 [ 1.0045048] [ 1.00534499] [-0.0171372]\n",
      "100 1.51306e-05 [ 1.002424] [ 1.00287604] [-0.00922139]\n",
      "120 4.38124e-06 [ 1.00130439] [ 1.00154769] [-0.00496196]\n",
      "140 1.26857e-06 [ 1.0007019] [ 1.0008328] [-0.00266994]\n",
      "160 3.67288e-07 [ 1.00037766] [ 1.00044811] [-0.00143669]\n",
      "180 1.06304e-07 [ 1.00020313] [ 1.00024104] [-0.00077298]\n",
      "200 3.08037e-08 [ 1.00010943] [ 1.0001297] [-0.00041589]\n",
      "220 8.90949e-09 [ 1.00005877] [ 1.00006974] [-0.00022378]\n",
      "240 2.56952e-09 [ 1.00003159] [ 1.00003755] [-0.00012041]\n",
      "260 7.48089e-10 [ 1.00001693] [ 1.00002015] [ -6.48035202e-05]\n",
      "280 2.15994e-10 [ 1.00000906] [ 1.00001085] [ -3.48581416e-05]\n",
      "300 6.28496e-11 [ 1.00000489] [ 1.00000584] [ -1.87696533e-05]\n",
      "320 1.90141e-11 [ 1.00000262] [ 1.00000322] [ -1.01460528e-05]\n",
      "340 5.6275e-12 [ 1.00000143] [ 1.00000167] [ -5.47543141e-06]\n",
      "360 1.69962e-12 [ 1.00000072] [ 1.00000083] [ -2.95057930e-06]\n",
      "380 5.77671e-13 [ 1.00000036] [ 1.00000048] [ -1.57967236e-06]\n",
      "400 3.38929e-13 [ 1.00000036] [ 1.00000036] [ -1.02654133e-06]\n",
      "420 7.10543e-14 [ 1.00000012] [ 1.00000012] [ -5.71161991e-07]\n",
      "440 2.06057e-14 [ 1.00000012] [ 1.00000012] [ -3.13669943e-07]\n",
      "460 2.06057e-14 [ 1.00000012] [ 1.00000012] [ -2.99364842e-07]\n",
      "480 2.06057e-14 [ 1.00000012] [ 1.00000012] [ -2.99364842e-07]\n",
      "500 2.06057e-14 [ 1.00000012] [ 1.00000012] [ -2.99364842e-07]\n"
     ]
    }
   ],
   "source": [
    "import tensorflow as tf\n",
    "### without matrix concept\n",
    "# Generate sample data\n",
    "x1_data = [1, 0, 3, 0, 5]\n",
    "x2_data = [0, 2, 0, 4, 0]\n",
    "y_data = [1, 2, 3, 4, 5]\n",
    "\n",
    "# Try to find values for W and b that compute y_data = W * x_data + b\n",
    "# (We know that W should be 1 and b 0, but Tensorflow will\n",
    "# figure that out for us.)\n",
    "\n",
    "W1 = tf.Variable(tf.random_uniform(shape = [1], minval = -1.0, maxval = 1.0))\n",
    "W2 = tf.Variable(tf.random_uniform(shape = [1], minval = -1.0, maxval = 1.0))\n",
    "b = tf.Variable(tf.random_uniform(shape = [1], minval = -1.0, maxval = 1.0))\n",
    "\n",
    "\n",
    "# Our hypothesis\n",
    "hypothesis = W1 * x1_data + W2 * x2_data + b\n",
    "\n",
    "# Simplified cost function\n",
    "cost = tf.reduce_mean(input_tensor = tf.square(hypothesis - y_data))\n",
    "\n",
    "# Minimize\n",
    "alpha = tf.Variable(0.1) # Learning rate, alpha\n",
    "optimizer = tf.train.GradientDescentOptimizer(learning_rate = alpha)\n",
    "train = optimizer.minimize(cost)\n",
    "\n",
    "# Before starting, initialize the variables. We will 'run' this first.\n",
    "init = tf.global_variables_initializer()\n",
    "\n",
    "# Launch the graph\n",
    "sess = tf.Session()\n",
    "sess.run(init)\n",
    "\n",
    "# Fit the line\n",
    "for step in range(501):\n",
    "    sess.run(train)\n",
    "    if step % 20 == 0:\n",
    "       print(step, sess.run(cost), sess.run(W1), sess.run(W2), sess.run(b))"
   ]
  },
  {
   "cell_type": "markdown",
   "metadata": {},
   "source": [
    "### With matrix concept"
   ]
  },
  {
   "cell_type": "code",
   "execution_count": 5,
   "metadata": {
    "collapsed": false
   },
   "outputs": [
    {
     "name": "stdout",
     "output_type": "stream",
     "text": [
      "0 0.108783 [[ 0.72008526  0.81290698]] [ 0.72582608]\n",
      "20 0.0281598 [[ 0.87592381  0.89542609]] [ 0.39781356]\n",
      "40 0.00815342 [[ 0.93323576  0.94372976]] [ 0.21405974]\n",
      "60 0.00236076 [[ 0.96407479  0.9697215 ]] [ 0.11518353]\n",
      "80 0.000683535 [[ 0.98066896  0.98370749]] [ 0.0619792]\n",
      "100 0.000197912 [[ 0.98959816  0.99123317]] [ 0.03335042]\n",
      "120 5.73038e-05 [[ 0.99440289  0.99528259]] [ 0.01794554]\n",
      "140 1.65913e-05 [[ 0.99698824  0.99746168]] [ 0.00965636]\n",
      "160 4.8039e-06 [[ 0.99837935  0.9986341 ]] [ 0.005196]\n",
      "180 1.39102e-06 [[ 0.99912792  0.99926502]] [ 0.00279593]\n",
      "200 4.02715e-07 [[ 0.99953073  0.99960458]] [ 0.00150446]\n",
      "220 1.16595e-07 [[ 0.99974751  0.99978721]] [ 0.00080956]\n",
      "240 3.37657e-08 [[ 0.9998641  0.9998855]] [ 0.00043562]\n",
      "260 9.76626e-09 [[ 0.99992687  0.99993837]] [ 0.00023442]\n",
      "280 2.82784e-09 [[ 0.99996066  0.9999668 ]] [ 0.00012615]\n",
      "300 8.21993e-10 [[ 0.99997884  0.99998212]] [  6.78391661e-05]\n",
      "320 2.37662e-10 [[ 0.99998862  0.9999904 ]] [  3.65157357e-05]\n",
      "340 6.96104e-11 [[ 0.99999386  0.99999487]] [  1.96547771e-05]\n",
      "360 1.98185e-11 [[ 0.99999672  0.9999972 ]] [  1.05376530e-05]\n",
      "380 5.82361e-12 [[ 0.99999821  0.99999851]] [  5.65961000e-06]\n",
      "400 1.92415e-12 [[ 0.99999905  0.99999917]] [  3.05131107e-06]\n",
      "420 7.30438e-13 [[ 0.99999946  0.99999946]] [  1.62556785e-06]\n",
      "440 1.39266e-13 [[ 0.9999997  0.9999997]] [  9.10312338e-07]\n",
      "460 6.82121e-14 [[ 0.99999982  0.99999988]] [  5.76526247e-07]\n",
      "480 2.55795e-14 [[ 0.99999994  0.99999988]] [  2.95192422e-07]\n",
      "500 4.83169e-14 [[ 0.99999994  0.99999994]] [  2.09361815e-07]\n"
     ]
    }
   ],
   "source": [
    "### with matrix concept\n",
    "x_data = [[0., 2., 0., 4., 0.], [1., 0., 3., 0., 5.]] # Column 하나가 Data instance 하나\n",
    "y_data = [1, 2, 3, 4, 5]\n",
    "\n",
    "# Try to find values for W\n",
    "W = tf.Variable(tf.random_uniform(shape = [1,2] , minval = -1.0, maxval = 1.0))\n",
    "b = tf.Variable(tf.random_uniform(shape = [1] , minval = -1.0, maxval = 1.0))\n",
    "\n",
    "# Our hypothesis\n",
    "hypothesis = tf.matmul(W, x_data) + b\n",
    "\n",
    "# Simplified cost function\n",
    "cost = tf.reduce_mean(input_tensor = tf.square(hypothesis - y_data))\n",
    "\n",
    "# Minimize\n",
    "alpha = tf.Variable(0.1) # Learning rate, alpha\n",
    "optimizer = tf.train.GradientDescentOptimizer(learning_rate = alpha)\n",
    "train = optimizer.minimize(cost)\n",
    "\n",
    "# Before starting, initialize the variables. We will 'run' this first.\n",
    "init = tf.global_variables_initializer()\n",
    "\n",
    "# Launch the graph\n",
    "sess = tf.Session()\n",
    "sess.run(init)\n",
    "\n",
    "# Fit the line\n",
    "for step in range(501):\n",
    "    sess.run(train)\n",
    "    if step % 20 == 0:\n",
    "       print(step, sess.run(cost), sess.run(W), sess.run(b))"
   ]
  },
  {
   "cell_type": "markdown",
   "metadata": {},
   "source": [
    "### With matrix concept and designt matrix concept "
   ]
  },
  {
   "cell_type": "code",
   "execution_count": 7,
   "metadata": {
    "collapsed": false
   },
   "outputs": [
    {
     "name": "stdout",
     "output_type": "stream",
     "text": [
      "0 4.9709 [[ 1.4306705   0.50922406  1.44215369]]\n",
      "20 0.0815574 [[ 0.67701286  0.78884298  0.82203329]]\n",
      "40 0.0236143 [[ 0.3642942   0.88637829  0.90423733]]\n",
      "60 0.00683731 [[ 0.19602332  0.93886119  0.94847107]]\n",
      "80 0.00197969 [[ 0.10547833  0.96710175  0.97227263]]\n",
      "100 0.000573203 [[ 0.05675692  0.98229778  0.98508018]]\n",
      "120 0.000165967 [[ 0.0305404   0.99047458  0.99197179]]\n",
      "140 4.8054e-05 [[ 0.01643348  0.99487448  0.99568009]]\n",
      "160 1.39137e-05 [[ 0.00884275  0.99724203  0.99767554]]\n",
      "180 4.02851e-06 [[ 0.00475822  0.99851596  0.9987492 ]]\n",
      "200 1.16654e-06 [[ 0.00256036  0.99920142  0.999327  ]]\n",
      "220 3.37708e-07 [[ 0.00137774  0.99957031  0.99963796]]\n",
      "240 9.7807e-08 [[  7.41306401e-04   9.99768794e-01   9.99805093e-01]]\n",
      "260 2.83047e-08 [[  3.98923003e-04   9.99875605e-01   9.99895155e-01]]\n",
      "280 8.20309e-09 [[  2.14644475e-04   9.99933064e-01   9.99943674e-01]]\n",
      "300 2.37015e-09 [[  1.15495735e-04   9.99963999e-01   9.99969661e-01]]\n",
      "320 6.89127e-10 [[  6.21281069e-05   9.99980628e-01   9.99983728e-01]]\n",
      "340 1.97932e-10 [[  3.34320357e-05   9.99989569e-01   9.99991298e-01]]\n",
      "360 5.64484e-11 [[  1.79920480e-05   9.99994397e-01   9.99995291e-01]]\n",
      "380 1.6783e-11 [[  9.65216441e-06   9.99996960e-01   9.99997437e-01]]\n",
      "400 4.61569e-12 [[  5.17943226e-06   9.99998391e-01   9.99998629e-01]]\n",
      "420 1.38982e-12 [[  2.79524716e-06   9.99999106e-01   9.99999285e-01]]\n",
      "440 4.00746e-13 [[  1.50778669e-06   9.99999583e-01   9.99999583e-01]]\n",
      "460 1.0516e-13 [[  8.54520067e-07   9.99999702e-01   9.99999762e-01]]\n",
      "480 4.83169e-14 [[  5.20734091e-07   9.99999821e-01   9.99999881e-01]]\n",
      "500 2.55795e-14 [[  2.82315568e-07   9.99999940e-01   9.99999881e-01]]\n",
      "520 4.83169e-14 [[  2.01253329e-07   9.99999940e-01   9.99999940e-01]]\n",
      "540 4.83169e-14 [[  1.63106392e-07   9.99999940e-01   9.99999940e-01]]\n",
      "560 4.83169e-14 [[  1.63106392e-07   9.99999940e-01   9.99999940e-01]]\n",
      "580 4.83169e-14 [[  1.63106392e-07   9.99999940e-01   9.99999940e-01]]\n",
      "600 4.83169e-14 [[  1.63106392e-07   9.99999940e-01   9.99999940e-01]]\n"
     ]
    }
   ],
   "source": [
    "x_data = [[1, 1, 1, 1, 1],\n",
    "          [0., 2., 0., 4., 0.],\n",
    "          [1., 0., 3., 0., 5.]] # Column 하나가 Data instance 하나\n",
    "y_data = [1, 2, 3, 4, 5]\n",
    "\n",
    "# Try to find values for W\n",
    "W = tf.Variable(tf.random_uniform(shape = [1,3], minval = -1.0, maxval = 1.0))\n",
    "\n",
    "# Our hypothesis\n",
    "hypothesis = tf.matmul(W, x_data)\n",
    "\n",
    "# Simplified cost function\n",
    "cost = tf.reduce_mean(input_tensor = tf.square(hypothesis - y_data))\n",
    "\n",
    "# Minimize\n",
    "alpha = tf.Variable(0.1) # Learning rate, alpha\n",
    "optimizer = tf.train.GradientDescentOptimizer(learning_rate = alpha)\n",
    "train = optimizer.minimize(cost)\n",
    "\n",
    "# Before starting, initialize the variables. We will 'run' this first.\n",
    "init = tf.global_variables_initializer()\n",
    "\n",
    "# Launch the graph\n",
    "sess = tf.Session()\n",
    "sess.run(init)\n",
    "\n",
    "# Fit the line\n",
    "for step in range(601):\n",
    "    sess.run(train)\n",
    "    if step % 20 == 0:\n",
    "       print(step, sess.run(cost), sess.run(W))"
   ]
  },
  {
   "cell_type": "markdown",
   "metadata": {},
   "source": [
    "### Use numpy library with matrix cocnept and design matrix concept\n",
    "ndarray 형태를 사용할 때는, shape(차원)에 주의하여 사용할 것!"
   ]
  },
  {
   "cell_type": "code",
   "execution_count": 15,
   "metadata": {
    "collapsed": false
   },
   "outputs": [
    {
     "name": "stdout",
     "output_type": "stream",
     "text": [
      "[[ 1.  1.  0.  1.]\n",
      " [ 1.  0.  2.  2.]\n",
      " [ 1.  3.  0.  3.]\n",
      " [ 1.  0.  4.  4.]\n",
      " [ 1.  5.  0.  5.]]\n"
     ]
    }
   ],
   "source": [
    "# load the example data\n",
    "import tensorflow as tf\n",
    "import numpy as np\n",
    "xy = np.loadtxt(fname = 'C:/Users/KBS/PycharmProjects/Deep_learning_everyone/Lab4_example.txt', dtype = 'float32', delimiter = ' ',\n",
    "                unpack = False)\n",
    "print(xy)"
   ]
  },
  {
   "cell_type": "code",
   "execution_count": 53,
   "metadata": {
    "collapsed": false
   },
   "outputs": [
    {
     "name": "stdout",
     "output_type": "stream",
     "text": [
      "x_data =  [[ 1.  1.  0.]\n",
      " [ 1.  0.  2.]\n",
      " [ 1.  3.  0.]\n",
      " [ 1.  0.  4.]\n",
      " [ 1.  5.  0.]] \n",
      "y_data =  [[ 1.  2.  3.  4.  5.]]\n",
      "x_data shape =  (5, 3) \n",
      "y_data shape =  (1, 5)\n"
     ]
    }
   ],
   "source": [
    "# Check shapes of each data\n",
    "x_data = xy[:,0:-1]\n",
    "y_data = xy[:,-1].reshape((1,5))\n",
    "print('x_data = ',x_data,'\\ny_data = ', y_data)\n",
    "print('x_data shape = ',x_data.shape, '\\ny_data shape = ',y_data.shape)"
   ]
  },
  {
   "cell_type": "code",
   "execution_count": 54,
   "metadata": {
    "collapsed": false
   },
   "outputs": [
    {
     "name": "stdout",
     "output_type": "stream",
     "text": [
      "0 14.5991 [[-4.17051125  0.79576302  2.08599019]]\n",
      "20 0.751798 [[-2.05549097  1.54032922  1.6410979 ]]\n",
      "40 0.217677 [[-1.10604036  1.29074681  1.34496891]]\n",
      "60 0.0630265 [[-0.59514999  1.15644813  1.18562448]]\n",
      "80 0.0182488 [[-0.3202447   1.08418322  1.09988284]]\n",
      "100 0.00528378 [[-0.17232074  1.04529822  1.0537461 ]]\n",
      "120 0.00152987 [[-0.0927242   1.0243746   1.02892029]]\n",
      "140 0.000442965 [[-0.04989399  1.01311576  1.0155617 ]]\n",
      "160 0.000128256 [[-0.02684749  1.00705743  1.00837362]]\n",
      "180 3.71349e-05 [[-0.0144463   1.00379765  1.00450575]]\n",
      "200 1.07518e-05 [[-0.00777342  1.00204337  1.00242448]]\n",
      "220 3.11323e-06 [[-0.00418284  1.00109959  1.00130463]]\n",
      "240 9.01458e-07 [[-0.00225071  1.00059164  1.00070202]]\n",
      "260 2.61014e-07 [[-0.00121108  1.00031841  1.00037777]]\n",
      "280 7.55424e-08 [[ -6.51612820e-04   1.00017142e+00   1.00020325e+00]]\n",
      "300 2.19073e-08 [[ -3.50635702e-04   1.00009227e+00   1.00010943e+00]]\n",
      "320 6.33089e-09 [[ -1.88689912e-04   1.00004947e+00   1.00005877e+00]]\n",
      "340 1.83591e-09 [[ -1.01547928e-04   1.00002670e+00   1.00003171e+00]]\n",
      "360 5.33259e-10 [[ -5.45746916e-05   1.00001431e+00   1.00001705e+00]]\n",
      "380 1.54193e-10 [[ -2.92999339e-05   1.00000763e+00   1.00000906e+00]]\n",
      "400 4.5052e-11 [[ -1.57982886e-05   1.00000417e+00   1.00000489e+00]]\n",
      "420 1.2998e-11 [[ -8.50983270e-06   1.00000226e+00   1.00000262e+00]]\n",
      "440 3.33102e-12 [[ -4.53777875e-06   1.00000119e+00   1.00000143e+00]]\n",
      "460 1.24558e-12 [[ -2.42300575e-06   1.00000072e+00   1.00000072e+00]]\n",
      "480 3.09797e-13 [[ -1.30482238e-06   1.00000036e+00   1.00000048e+00]]\n",
      "500 1.7053e-13 [[ -9.63883849e-07   1.00000024e+00   1.00000036e+00]]\n",
      "520 2.91323e-14 [[ -4.36978894e-07   1.00000012e+00   1.00000012e+00]]\n",
      "540 2.06057e-14 [[ -3.03464503e-07   1.00000012e+00   1.00000012e+00]]\n",
      "560 2.06057e-14 [[ -2.98696136e-07   1.00000012e+00   1.00000012e+00]]\n",
      "580 2.06057e-14 [[ -2.98696136e-07   1.00000012e+00   1.00000012e+00]]\n",
      "600 2.06057e-14 [[ -2.98696136e-07   1.00000012e+00   1.00000012e+00]]\n"
     ]
    }
   ],
   "source": [
    "# train\n",
    "W = tf.Variable(tf.random_uniform(shape = [1,x_data.shape[1]], minval = -5.0, maxval = 5.0))\n",
    "\n",
    "# Our hypothesis\n",
    "hypothesis = tf.matmul(W, x_data, transpose_b = True)\n",
    "\n",
    "# Simplified cost function\n",
    "cost = tf.reduce_mean(tf.square(hypothesis - y_data))\n",
    "\n",
    "# Minimize\n",
    "alpha = tf.Variable(0.1) # Learning rate, alpha\n",
    "optimizer = tf.train.GradientDescentOptimizer(learning_rate = alpha)\n",
    "train = optimizer.minimize(cost)\n",
    "\n",
    "# Before starting, initialize the variables. We will 'run' this first.\n",
    "init = tf.global_variables_initializer()\n",
    "\n",
    "# Launch the graph\n",
    "sess = tf.Session()\n",
    "sess.run(init)\n",
    "\n",
    "# Fit the line\n",
    "for step in range(601):\n",
    "    sess.run(train)\n",
    "    if step % 20 == 0:\n",
    "       print(step, sess.run(cost), sess.run(W))"
   ]
  }
 ],
 "metadata": {
  "anaconda-cloud": {},
  "kernelspec": {
   "display_name": "Python [conda root]",
   "language": "python",
   "name": "conda-root-py"
  },
  "language_info": {
   "codemirror_mode": {
    "name": "ipython",
    "version": 3
   },
   "file_extension": ".py",
   "mimetype": "text/x-python",
   "name": "python",
   "nbconvert_exporter": "python",
   "pygments_lexer": "ipython3",
   "version": "3.5.2"
  }
 },
 "nbformat": 4,
 "nbformat_minor": 1
}
